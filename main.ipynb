{
 "cells": [
  {
   "cell_type": "code",
   "execution_count": 3,
   "metadata": {},
   "outputs": [],
   "source": [
    "import scipy\n",
    "import torch\n",
    "mat = scipy.io.loadmat('H.mat')\n",
    "\n",
    "\n"
   ]
  },
  {
   "cell_type": "code",
   "execution_count": 8,
   "metadata": {},
   "outputs": [],
   "source": [
    "import numpy as np\n",
    "img = np.array(mat['imag'])"
   ]
  },
  {
   "cell_type": "code",
   "execution_count": 22,
   "metadata": {},
   "outputs": [
    {
     "data": {
      "text/plain": [
       "(24800, 7)"
      ]
     },
     "execution_count": 22,
     "metadata": {},
     "output_type": "execute_result"
    }
   ],
   "source": [
    "np.array(mat['parameter']).shape"
   ]
  },
  {
   "cell_type": "code",
   "execution_count": 16,
   "metadata": {},
   "outputs": [
    {
     "data": {
      "text/plain": [
       "(24800, 301)"
      ]
     },
     "execution_count": 16,
     "metadata": {},
     "output_type": "execute_result"
    }
   ],
   "source": [
    "mat['real'].shape"
   ]
  },
  {
   "cell_type": "code",
   "execution_count": 17,
   "metadata": {},
   "outputs": [
    {
     "data": {
      "text/plain": [
       "{'__header__': b'MATLAB 5.0 MAT-file, Platform: PCWIN64, Created on: Thu Jul  9 00:02:00 2020',\n",
       " '__version__': '1.0',\n",
       " '__globals__': [],\n",
       " 'imag': array([[ 3.5292255e-01,  3.8196382e-01,  4.1076733e-01, ...,\n",
       "         -3.3795488e-01, -2.9083769e-01, -2.4699956e-01],\n",
       "        [ 1.5549117e-01,  1.8647005e-01,  2.1742276e-01, ...,\n",
       "          2.0997937e-01,  2.2129116e-01,  2.3223738e-01],\n",
       "        [ 1.6689520e-01,  1.9691504e-01,  2.2691980e-01, ...,\n",
       "          3.5835825e-01,  3.1091876e-01,  2.6366308e-01],\n",
       "        ...,\n",
       "        [ 4.1270948e-01,  4.4478156e-01,  4.7651205e-01, ...,\n",
       "         -1.8417086e-04,  1.3811996e-03,  3.2876710e-03],\n",
       "        [ 2.8111640e-01,  3.1262937e-01,  3.4397409e-01, ...,\n",
       "          5.4142652e-01,  6.1539289e-01,  6.8314246e-01],\n",
       "        [ 2.1243249e-01,  2.4427965e-01,  2.7601597e-01, ...,\n",
       "         -3.9527260e-01, -4.2329819e-01, -4.5047482e-01]]),\n",
       " 'parameter': array([[3.  , 0.8 , 4.61, ..., 0.85, 2.52, 2.14],\n",
       "        [3.  , 0.93, 4.37, ..., 0.53, 1.27, 1.04],\n",
       "        [3.  , 0.83, 3.93, ..., 0.55, 1.47, 2.47],\n",
       "        ...,\n",
       "        [3.  , 1.  , 4.85, ..., 0.73, 1.34, 1.88],\n",
       "        [3.  , 1.  , 4.73, ..., 0.68, 1.43, 0.83],\n",
       "        [3.  , 1.  , 4.62, ..., 0.79, 1.23, 1.75]]),\n",
       " 'real': array([[-8.0236577e-01, -7.9158398e-01, -7.7966646e-01, ...,\n",
       "         -4.5626856e-01, -4.5559344e-01, -4.5113669e-01],\n",
       "        [-9.3530171e-01, -9.3114405e-01, -9.2594925e-01, ...,\n",
       "         -3.2218087e-02, -2.3070322e-02, -1.2852187e-02],\n",
       "        [-9.0222722e-01, -8.9800304e-01, -8.9275913e-01, ...,\n",
       "          8.2714692e-01,  8.4164004e-01,  8.5326840e-01],\n",
       "        ...,\n",
       "        [-8.6595707e-01, -8.5215598e-01, -8.3706548e-01, ...,\n",
       "          3.5168841e-04, -1.7512216e-03, -3.9016043e-03],\n",
       "        [-9.0742217e-01, -8.9885557e-01, -8.8914779e-01, ...,\n",
       "         -5.9297996e-01, -5.5286056e-01, -5.0405035e-01],\n",
       "        [-9.4080648e-01, -9.3449146e-01, -9.2707266e-01, ...,\n",
       "          6.7607786e-01,  6.5515807e-01,  6.3308372e-01]])}"
      ]
     },
     "execution_count": 17,
     "metadata": {},
     "output_type": "execute_result"
    }
   ],
   "source": [
    "mat"
   ]
  },
  {
   "cell_type": "code",
   "execution_count": 4,
   "metadata": {},
   "outputs": [
    {
     "data": {
      "text/plain": [
       "{'__header__': b'MATLAB 5.0 MAT-file, Platform: PCWIN64, Created on: Thu Jul  9 00:20:36 2020',\n",
       " '__version__': '1.0',\n",
       " '__globals__': [],\n",
       " 'imag': array([[ 0.4519814 ,  0.48305637,  0.51370626, ...,  0.11583228,\n",
       "          0.14151892,  0.17218602],\n",
       "        [-0.00647189,  0.02185866,  0.05034382, ..., -0.05997648,\n",
       "         -0.03304805, -0.0068573 ],\n",
       "        [-0.05503095, -0.02676941,  0.00168447, ...,  0.16449708,\n",
       "          0.16433527,  0.16204542],\n",
       "        ...,\n",
       "        [ 0.17731086,  0.20695215,  0.23657627, ...,  0.03062588,\n",
       "          0.03393458,  0.03570032],\n",
       "        [ 0.02236756,  0.05211965,  0.08195775, ..., -0.58326322,\n",
       "         -0.61307049, -0.64222937],\n",
       "        [ 0.1128649 ,  0.14348767,  0.1741387 , ...,  0.27818422,\n",
       "          0.23139683,  0.18533819]]),\n",
       " 'parameter': array([[3.  , 1.  , 4.88],\n",
       "        [2.64, 0.62, 4.35],\n",
       "        [2.87, 0.59, 4.74],\n",
       "        ...,\n",
       "        [2.61, 0.8 , 4.26],\n",
       "        [2.68, 0.83, 4.88],\n",
       "        [2.53, 0.82, 4.98]]),\n",
       " 'pattern': array([[[0, 0, 0, ..., 0, 0, 0],\n",
       "         [0, 0, 0, ..., 0, 0, 0],\n",
       "         [0, 0, 0, ..., 0, 0, 0],\n",
       "         ...,\n",
       "         [0, 0, 0, ..., 0, 0, 0],\n",
       "         [0, 0, 0, ..., 0, 0, 0],\n",
       "         [0, 0, 0, ..., 0, 0, 0]],\n",
       " \n",
       "        [[0, 0, 0, ..., 0, 0, 0],\n",
       "         [0, 0, 0, ..., 0, 0, 0],\n",
       "         [0, 0, 0, ..., 0, 0, 0],\n",
       "         ...,\n",
       "         [0, 0, 0, ..., 0, 0, 0],\n",
       "         [0, 0, 0, ..., 0, 0, 0],\n",
       "         [0, 0, 0, ..., 0, 0, 0]],\n",
       " \n",
       "        [[0, 0, 0, ..., 0, 0, 0],\n",
       "         [0, 0, 0, ..., 0, 0, 0],\n",
       "         [0, 0, 0, ..., 0, 0, 0],\n",
       "         ...,\n",
       "         [0, 0, 0, ..., 0, 0, 0],\n",
       "         [0, 0, 0, ..., 0, 0, 0],\n",
       "         [0, 0, 0, ..., 0, 0, 0]],\n",
       " \n",
       "        ...,\n",
       " \n",
       "        [[0, 0, 0, ..., 0, 0, 0],\n",
       "         [0, 0, 0, ..., 0, 0, 0],\n",
       "         [0, 0, 0, ..., 0, 0, 0],\n",
       "         ...,\n",
       "         [0, 0, 0, ..., 0, 0, 0],\n",
       "         [0, 0, 0, ..., 0, 0, 0],\n",
       "         [0, 0, 0, ..., 0, 0, 0]],\n",
       " \n",
       "        [[0, 0, 0, ..., 0, 0, 0],\n",
       "         [0, 0, 0, ..., 0, 0, 0],\n",
       "         [0, 0, 0, ..., 0, 0, 0],\n",
       "         ...,\n",
       "         [0, 0, 0, ..., 0, 0, 0],\n",
       "         [0, 0, 0, ..., 0, 0, 0],\n",
       "         [0, 0, 0, ..., 0, 0, 0]],\n",
       " \n",
       "        [[0, 0, 0, ..., 0, 0, 0],\n",
       "         [0, 0, 0, ..., 0, 0, 0],\n",
       "         [0, 0, 0, ..., 0, 0, 0],\n",
       "         ...,\n",
       "         [0, 0, 0, ..., 0, 0, 0],\n",
       "         [0, 0, 0, ..., 0, 0, 0],\n",
       "         [0, 0, 0, ..., 0, 0, 0]]], dtype=int8),\n",
       " 'real': array([[-0.83004096, -0.81479055, -0.79825865, ..., -0.18219164,\n",
       "         -0.18819088, -0.19313375],\n",
       "        [-0.8975418 , -0.89894859, -0.89947408, ..., -0.01344728,\n",
       "         -0.01020036, -0.00281083],\n",
       "        [-0.90831421, -0.9111463 , -0.91312007, ...,  0.17170813,\n",
       "          0.19207182,  0.21197117],\n",
       "        ...,\n",
       "        [-0.89239528, -0.88801854, -0.88263164, ...,  0.05438214,\n",
       "          0.06853258,  0.08268238],\n",
       "        [-0.94248337, -0.94264359, -0.94187205, ...,  0.7293914 ,\n",
       "          0.70591708,  0.68106372],\n",
       "        [-0.93170292, -0.9291473 , -0.92557751, ...,  0.88316782,\n",
       "          0.88997733,  0.89427594]])}"
      ]
     },
     "execution_count": 4,
     "metadata": {},
     "output_type": "execute_result"
    }
   ],
   "source": [
    "mat2 = scipy.io.loadmat('freeform.mat')\n",
    "mat2"
   ]
  },
  {
   "cell_type": "code",
   "execution_count": 33,
   "metadata": {},
   "outputs": [],
   "source": [
    "img = mat2['pattern'].transpose(2,0,1)"
   ]
  },
  {
   "cell_type": "code",
   "execution_count": 37,
   "metadata": {},
   "outputs": [
    {
     "data": {
      "text/plain": [
       "(122418, 32, 32)"
      ]
     },
     "execution_count": 37,
     "metadata": {},
     "output_type": "execute_result"
    }
   ],
   "source": [
    "img[:122418,:32,:32].shape"
   ]
  },
  {
   "cell_type": "code",
   "execution_count": 38,
   "metadata": {},
   "outputs": [
    {
     "data": {
      "image/png": "[encoded data removed]",
      "text/plain": [
       "<Figure size 640x480 with 50 Axes>"
      ]
     },
     "metadata": {},
     "output_type": "display_data"
    }
   ],
   "source": [
    "from matplotlib import pyplot as plt\n",
    "for i, image in enumerate(img[:50,:32,:32]):\n",
    "    plt.subplot(5, 10, i+1)\n",
    "    plt.imshow(image)\n",
    "    plt.axis('off')"
   ]
  },
  {
   "cell_type": "code",
   "execution_count": 28,
   "metadata": {},
   "outputs": [
    {
     "data": {
      "text/plain": [
       "array([[3.  , 1.  , 4.88],\n",
       "       [2.64, 0.62, 4.35],\n",
       "       [2.87, 0.59, 4.74],\n",
       "       ...,\n",
       "       [2.61, 0.8 , 4.26],\n",
       "       [2.68, 0.83, 4.88],\n",
       "       [2.53, 0.82, 4.98]])"
      ]
     },
     "execution_count": 28,
     "metadata": {},
     "output_type": "execute_result"
    }
   ],
   "source": [
    "\n",
    "mat2['parameter']"
   ]
  },
  {
   "cell_type": "code",
   "execution_count": 41,
   "metadata": {},
   "outputs": [],
   "source": [
    "real = mat2['real']"
   ]
  },
  {
   "cell_type": "code",
   "execution_count": 48,
   "metadata": {},
   "outputs": [],
   "source": [
    "imag = mat2['imag']\n",
    "para = mat2['parameter']"
   ]
  },
  {
   "cell_type": "code",
   "execution_count": 8,
   "metadata": {},
   "outputs": [],
   "source": [
    "import numpy as np\n",
    "data = np.load('/home/housen/meta-diffusion/meta/UNet_meta-1000_steps-250-sampling_steps-class_condn_-1_6.npz')"
   ]
  },
  {
   "cell_type": "code",
   "execution_count": 9,
   "metadata": {},
   "outputs": [
    {
     "data": {
      "text/plain": [
       "(500, 605)"
      ]
     },
     "execution_count": 9,
     "metadata": {},
     "output_type": "execute_result"
    }
   ],
   "source": [
    "data['arr_1'].shape"
   ]
  },
  {
   "cell_type": "code",
   "execution_count": 53,
   "metadata": {},
   "outputs": [
    {
     "data": {
      "text/plain": [
       "(605,)"
      ]
     },
     "execution_count": 53,
     "metadata": {},
     "output_type": "execute_result"
    }
   ],
   "source": [
    "import numpy as np\n",
    "np.concatenate((real,imag,para),axis=1)[5].shape"
   ]
  },
  {
   "cell_type": "code",
   "execution_count": null,
   "metadata": {},
   "outputs": [],
   "source": [
    "from torchvision import datasets, transforms\n",
    "from torch.utils.data import Dataset\n",
    "import os\n",
    "class metaDataset(Dataset):\n",
    "    def __init__(self, data_dir,split, transform=None):\n",
    "        mat = scipy.io.loadmat(os.path.join(data_dir, \"freeform.mat\"))\n",
    "        if split == 'train':\n",
    "            self.img_labels = np.concatenate((mat['real'],mat['imag'],mat['parameter']),axis=1)[:122418]\n",
    "            self.img = mat['pattern'].transpose(2,0,1)[:122418,:32,:32]\n",
    "            self.transform = transform\n",
    "        elif split == 'val':\n",
    "            self.img_labels = np.concatenate((mat['real'],mat['imag'],mat['parameter']),axis=1)[122418:]\n",
    "            self.img = mat['pattern'].transpose(2,0,1)[122418:,:32,:32]\n",
    "            self.transform = transform\n",
    "    def __len__(self):\n",
    "        return len(self.img_labels)\n",
    "\n",
    "    def __getitem__(self, idx):\n",
    "        image = self.img[idx]\n",
    "        label = self.img_labels[idx]\n",
    "        if self.transform:\n",
    "            image = self.transform(image)\n",
    "        return image, label"
   ]
  },
  {
   "cell_type": "code",
   "execution_count": null,
   "metadata": {},
   "outputs": [],
   "source": [
    "transform_train = transforms.Compose(\n",
    "            [\n",
    "                transforms.ToTensor()\n",
    "            ]\n",
    "        )\n",
    "train_set = metaDataset(./,'train',transform_train)"
   ]
  },
  {
   "cell_type": "code",
   "execution_count": 8,
   "metadata": {},
   "outputs": [
    {
     "data": {
      "image/png": "[encoded data removed]",
      "text/plain": [
       "<Figure size 1000x600 with 1 Axes>"
      ]
     },
     "metadata": {},
     "output_type": "display_data"
    }
   ],
   "source": [
    "import matplotlib.pyplot as plt\n",
    "import numpy as np\n",
    "# 从文本文件中读取数据\n",
    "data = []\n",
    "with open('trainbig.log', 'r') as f:\n",
    "    for line in f:\n",
    "        parts = line.strip().split('\\t')\n",
    "        if len(parts) >= 4:\n",
    "            step = int(parts[1].split('/')[0].split(':')[-1])\n",
    "            loss = float(parts[2].split(':')[-1])\n",
    "            hours = float(parts[3].split(':')[-1][:-3])\n",
    "            data.append((step, loss, hours))\n",
    "\n",
    "# 提取步数、损失和经过时间\n",
    "steps, losses, hours = zip(*data)\n",
    "\n",
    "# 创建图形\n",
    "fig, ax1 = plt.subplots(figsize=(10, 6))\n",
    "\n",
    "# 绘制损失曲线\n",
    "ax1.plot(steps, np.log(losses), color='b', label='Loss')\n",
    "ax1.set_xlabel('Step')\n",
    "ax1.set_ylabel('Loss', color='b')\n",
    "ax1.tick_params('y', colors='b')\n",
    "\n",
    "# 创建第二个y轴来绘制经过时间\n",
    "# ax2 = ax1.twinx()\n",
    "# ax2.plot(steps, hours, color='r', label='Time Elapsed (hr)')\n",
    "# ax2.set_ylabel('Time Elapsed (hr)', color='r')\n",
    "# ax2.tick_params('y', colors='r')//\n",
    "\n",
    "# 设置图例\n",
    "lines1, labels1 = ax1.get_legend_handles_labels()\n",
    "# lines2, labels2 = ax2.get_legend_handles_labels()\n",
    "# ax2.legend(lines1 + lines2, labels1 + labels2, loc='upper left')\n",
    "\n",
    "# 调整图形布局并显示\n",
    "fig.tight_layout()\n",
    "plt.show()"
   ]
  }
 ],
 "metadata": {
  "kernelspec": {
   "display_name": "Python 3",
   "language": "python",
   "name": "python3"
  },
  "language_info": {
   "codemirror_mode": {
    "name": "ipython",
    "version": 3
   },
   "file_extension": ".py",
   "mimetype": "text/x-python",
   "name": "python",
   "nbconvert_exporter": "python",
   "pygments_lexer": "ipython3",
   "version": "3.10.14"
  }
 },
 "nbformat": 4,
 "nbformat_minor": 2
}
